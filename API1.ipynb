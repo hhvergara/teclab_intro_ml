{
 "cells": [
  {
   "cell_type": "markdown",
   "metadata": {},
   "source": [
    "# Introducción al machine learning\n",
    "\n",
    "**API 1**\n",
    "\n",
    "**Alumno**: Hector Vergara ([LinkedIn](https://www.linkedin.com/in/hector-vergara/))\n",
    "\n",
    "**Repositorio**: [GitHub](https://github.com/hhvergara/teclab_intro_ml)"
   ]
  },
  {
   "cell_type": "code",
   "execution_count": 92,
   "metadata": {},
   "outputs": [],
   "source": [
    "import os\n",
    "import numpy as np\n",
    "import pandas as pd\n",
    "from pathlib import Path\n",
    "\n",
    "__version__ = '0.0.1'\n",
    "__email__ = 'hhvservice@gmail.com'\n",
    "__author__ = 'Hector Vergara'\n",
    "__annotations__ = 'https://www.linkedin.com/in/hector-vergara/'\n",
    "__base_dir__ = Path().absolute()\n",
    "__data_dir__ = os.path.join(__base_dir__, 'data')\n",
    "filename_data = os.path.join(__data_dir__, 'Titanic_M1.xlsx')\n",
    "printing = lambda text: print(f\"{'\\033[92m'}{text}{'\\033[0m'}\")"
   ]
  },
  {
   "cell_type": "markdown",
   "metadata": {},
   "source": [
    "## Consignas\n",
    "\n",
    "Para realizar los futuros modelos de datos, el primer desafío será preprocesar la base de datos, según las siguientes instrucciones:\n",
    "\n",
    "a) Describir brevemente la cantidad de valores faltantes para cada una de las variables de la base de datos."
   ]
  },
  {
   "cell_type": "code",
   "execution_count": 93,
   "metadata": {},
   "outputs": [
    {
     "data": {
      "text/plain": [
       "pclass         76\n",
       "survived        0\n",
       "name            0\n",
       "sex             0\n",
       "age           239\n",
       "sibsp           0\n",
       "parch           0\n",
       "ticket          0\n",
       "fare            0\n",
       "cabin         927\n",
       "embarked        2\n",
       "boat          751\n",
       "body         1110\n",
       "home.dest     475\n",
       "dtype: int64"
      ]
     },
     "execution_count": 93,
     "metadata": {},
     "output_type": "execute_result"
    }
   ],
   "source": [
    "df = pd.read_excel(filename_data)\n",
    "df.isna().sum()"
   ]
  },
  {
   "cell_type": "markdown",
   "metadata": {},
   "source": [
    "b) En la columna Pclass, completar los valores NA, asignando a las personas a la clase 2."
   ]
  },
  {
   "cell_type": "code",
   "execution_count": 94,
   "metadata": {},
   "outputs": [
    {
     "data": {
      "text/plain": [
       "pclass          0\n",
       "survived        0\n",
       "name            0\n",
       "sex             0\n",
       "age           239\n",
       "sibsp           0\n",
       "parch           0\n",
       "ticket          0\n",
       "fare            0\n",
       "cabin         927\n",
       "embarked        2\n",
       "boat          751\n",
       "body         1110\n",
       "home.dest     475\n",
       "dtype: int64"
      ]
     },
     "execution_count": 94,
     "metadata": {},
     "output_type": "execute_result"
    }
   ],
   "source": [
    "df.fillna(value={'pclass': 2}, inplace=True)\n",
    "df.isna().sum()"
   ]
  },
  {
   "cell_type": "markdown",
   "metadata": {},
   "source": [
    "c) En la clase “Sex”, imputar los datos de manera de poder completar la base solo con los valores “male” y “female”."
   ]
  },
  {
   "cell_type": "code",
   "execution_count": 95,
   "metadata": {},
   "outputs": [
    {
     "data": {
      "text/plain": [
       "array(['female', 'male', 'Hombre', 'Mujer'], dtype=object)"
      ]
     },
     "execution_count": 95,
     "metadata": {},
     "output_type": "execute_result"
    }
   ],
   "source": [
    "df['sex'].unique()"
   ]
  },
  {
   "cell_type": "code",
   "execution_count": 96,
   "metadata": {},
   "outputs": [
    {
     "data": {
      "text/plain": [
       "array(['female', 'male'], dtype=object)"
      ]
     },
     "execution_count": 96,
     "metadata": {},
     "output_type": "execute_result"
    }
   ],
   "source": [
    "df.replace({'Hombre': 'male', 'Mujer': 'female'}, inplace=True)\n",
    "df['sex'].unique()"
   ]
  },
  {
   "cell_type": "markdown",
   "metadata": {},
   "source": [
    "d) En los casos de las personas de las cuales no se tenga la edad, rellenar los datos con el promedio de edad de aquellos que sí tienen el dato."
   ]
  },
  {
   "cell_type": "code",
   "execution_count": 97,
   "metadata": {},
   "outputs": [
    {
     "name": "stdout",
     "output_type": "stream",
     "text": [
      "\u001b[92mPromedio de edad: 30.026\u001b[0m\n"
     ]
    },
    {
     "data": {
      "text/plain": [
       "pclass          0\n",
       "survived        0\n",
       "name            0\n",
       "sex             0\n",
       "age             0\n",
       "sibsp           0\n",
       "parch           0\n",
       "ticket          0\n",
       "fare            0\n",
       "cabin         927\n",
       "embarked        2\n",
       "boat          751\n",
       "body         1110\n",
       "home.dest     475\n",
       "dtype: int64"
      ]
     },
     "execution_count": 97,
     "metadata": {},
     "output_type": "execute_result"
    }
   ],
   "source": [
    "printing(f\"💡 Promedio de edad: {round(df['age'].mean(), 3)}\") \n",
    "df['age'] = df['age'].replace(np.nan, df['age'].mean())\n",
    "df.isna().sum()"
   ]
  },
  {
   "cell_type": "code",
   "execution_count": 98,
   "metadata": {},
   "outputs": [
    {
     "data": {
      "text/plain": [
       "array([29.        ,  0.9167    ,  2.        , 30.        , 25.        ,\n",
       "       48.        , 63.        , 39.        , 53.        , 71.        ,\n",
       "       47.        , 18.        , 24.        , 26.        , 80.        ,\n",
       "       30.02627551, 50.        , 32.        , 36.        , 37.        ,\n",
       "       42.        , 19.        , 35.        , 28.        , 45.        ,\n",
       "       40.        , 58.        , 22.        , 41.        , 44.        ,\n",
       "       59.        , 60.        , 33.        , 17.        , 11.        ,\n",
       "       14.        , 49.        , 76.        , 46.        , 27.        ,\n",
       "       64.        , 55.        , 70.        , 38.        , 51.        ,\n",
       "       31.        ,  4.        , 54.        , 23.        , 43.        ,\n",
       "       52.        , 16.        , 32.5       , 21.        , 15.        ,\n",
       "       65.        , 28.5       , 45.5       , 56.        , 13.        ,\n",
       "       61.        , 34.        ,  6.        , 57.        , 62.        ,\n",
       "       67.        ,  1.        , 12.        , 20.        ,  0.8333    ,\n",
       "        8.        ,  0.6667    ,  7.        ,  3.        , 36.5       ,\n",
       "       18.5       ,  5.        , 66.        ,  9.        ,  0.75      ,\n",
       "       70.5       , 22.5       ,  0.3333    ,  0.1667    , 40.5       ,\n",
       "       10.        , 23.5       , 34.5       , 20.5       , 30.5       ,\n",
       "       55.5       , 38.5       , 14.5       , 24.5       ])"
      ]
     },
     "execution_count": 98,
     "metadata": {},
     "output_type": "execute_result"
    }
   ],
   "source": [
    "df[\"age\"].unique()"
   ]
  },
  {
   "cell_type": "markdown",
   "metadata": {},
   "source": [
    "e) En la columna embarked, asignar el valor “S” a aquellos datos que se encuentran con valor vacío."
   ]
  },
  {
   "cell_type": "code",
   "execution_count": 99,
   "metadata": {},
   "outputs": [
    {
     "data": {
      "text/plain": [
       "pclass          0\n",
       "survived        0\n",
       "name            0\n",
       "sex             0\n",
       "age             0\n",
       "sibsp           0\n",
       "parch           0\n",
       "ticket          0\n",
       "fare            0\n",
       "cabin         927\n",
       "embarked        0\n",
       "boat          751\n",
       "body         1110\n",
       "home.dest     475\n",
       "dtype: int64"
      ]
     },
     "execution_count": 99,
     "metadata": {},
     "output_type": "execute_result"
    }
   ],
   "source": [
    "df.fillna(value={'embarked': \"S\"}, inplace=True)\n",
    "df.isna().sum()"
   ]
  }
 ],
 "metadata": {
  "kernelspec": {
   "display_name": ".venv",
   "language": "python",
   "name": "python3"
  },
  "language_info": {
   "codemirror_mode": {
    "name": "ipython",
    "version": 3
   },
   "file_extension": ".py",
   "mimetype": "text/x-python",
   "name": "python",
   "nbconvert_exporter": "python",
   "pygments_lexer": "ipython3",
   "version": "3.12.2"
  }
 },
 "nbformat": 4,
 "nbformat_minor": 2
}
